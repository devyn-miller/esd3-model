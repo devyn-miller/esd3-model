{
  "cells": [
    {
      "cell_type": "markdown",
      "metadata": {
        "id": "FU1A7reYu9ZA"
      },
      "source": [
        "# Libraries"
      ]
    },
    {
      "cell_type": "code",
      "execution_count": null,
      "metadata": {
        "collapsed": true,
        "id": "VfrLoFjfu9ZC"
      },
      "outputs": [],
      "source": [
        "import gymnasium as gym\n",
        "from gymnasium import spaces, vector\n",
        "import ray\n",
        "from ray.rllib.env.multi_agent_env import MultiAgentEnv\n",
        "import numpy as np\n",
        "import csv\n",
        "import random\n",
        "import logging"
      ]
    },
    {
      "cell_type": "markdown",
      "metadata": {
        "id": "RjO65bQVu9ZE"
      },
      "source": [
        "# Parameters"
      ]
    },
    {
      "cell_type": "code",
      "execution_count": null,
      "metadata": {
        "id": "u2nzY1HYu9ZE"
      },
      "outputs": [],
      "source": [
        "CUSTOMERS = 3000\n",
        "PERIODS = 100\n",
        "STARTING_PRICES = [300,300,300]\n",
        "LARGEST_DISCOUNT = 30 # most you can decrease your prices in one period\n",
        "LARGEST_INCREASE = 30 # most you can increase your prices in one period\n",
        "# INERTIA = min(prices)/10\n",
        "INERTIA = 10**10"
      ]
    },
    {
      "cell_type": "markdown",
      "metadata": {
        "id": "6hHtXz-hu9ZF"
      },
      "source": [
        "# Functions"
      ]
    },
    {
      "cell_type": "code",
      "execution_count": null,
      "metadata": {},
      "outputs": [],
      "source": []
    },
    {
      "cell_type": "code",
      "execution_count": null,
      "metadata": {
        "id": "Mmg7FJChu9ZF"
      },
      "outputs": [],
      "source": [
        "# A simple functions for determining consumer movment dependent on prices\n",
        "# Takes in a list of prices of the firms and returns a list of how many customers each firm will have\n",
        "def calculate_market_share(prices):\n",
        "    num_companies = len(prices)\n",
        "\n",
        "    # Calculate inverse prices to distribute customers (lower price gets more customers)\n",
        "    inverse_prices = [(1/INERTIA)+ (1 / (price + 0.01)) for price in prices]\n",
        "    total_inverse = sum(inverse_prices)\n",
        "\n",
        "    # Calculate market share for each company based on inverse price proportion\n",
        "    market_shares = [(inverse_price / total_inverse) * CUSTOMERS for inverse_price in inverse_prices]\n",
        "\n",
        "    # Convert to integers and ensure the total is 3000 (handle any rounding issues)\n",
        "    market_shares = [int(share) for share in market_shares]\n",
        "    difference = CUSTOMERS - sum(market_shares)\n",
        "\n",
        "    # Adjust the rounding difference if necessary\n",
        "    for i in range(abs(difference)):\n",
        "        market_shares[i % num_companies] += 1 if difference > 0 else -1\n",
        "\n",
        "    return market_shares"
      ]
    },
    {
      "cell_type": "code",
      "execution_count": null,
      "metadata": {
        "colab": {
          "base_uri": "https://localhost:8080/"
        },
        "id": "U0m9fxTvu9ZG",
        "outputId": "2f34f15a-476e-4e5a-ca01-e69a3d0c9ad6"
      },
      "outputs": [
        {
          "name": "stdout",
          "output_type": "stream",
          "text": [
            "[1000, 1000, 1000]\n"
          ]
        }
      ],
      "source": [
        "print(calculate_market_share(STARTING_PRICES))"
      ]
    },
    {
      "cell_type": "code",
      "execution_count": null,
      "metadata": {
        "colab": {
          "base_uri": "https://localhost:8080/"
        },
        "id": "o3IlTCLzwP52",
        "outputId": "8a022667-6f5c-499f-fe3e-befac3616776"
      },
      "outputs": [
        {
          "data": {
            "text/plain": [
              "100000000"
            ]
          },
          "execution_count": 5,
          "metadata": {},
          "output_type": "execute_result"
        }
      ],
      "source": [
        "10**8"
      ]
    },
    {
      "cell_type": "code",
      "execution_count": null,
      "metadata": {
        "id": "9CGMrI-pu9ZH"
      },
      "outputs": [],
      "source": [
        "class InertiaEnv(MultiAgentEnv):\n",
        "    def __init__(self, seed=None):\n",
        "        super(InertiaEnv, self).__init__()\n",
        "        #logging.basicConfig(level=logging.DEBUG)\n",
        "        self.t_steps = 0\n",
        "        self.num_agents = len(STARTING_PRICES)\n",
        "        self._agent_ids = [f'agent_{i}' for i in range(self.num_agents)]\n",
        "\n",
        "        self.action_space = spaces.Dict({\n",
        "            agent: spaces.Box(low=0-LARGEST_DISCOUNT,high=LARGEST_INCREASE,dtype=np.int32)\n",
        "            for agent in self._agent_ids\n",
        "        })\n",
        "\n",
        "        self.observation_space = spaces.Dict({\n",
        "                agent: spaces.Dict({'price': spaces.Box(low=0, high=max(STARTING_PRICES)+30*LARGEST_INCREASE,dtype=np.int32),\n",
        "                                    'market_prices': spaces.Box(low=0, high=max(STARTING_PRICES)+30*LARGEST_INCREASE,  shape=(len(STARTING_PRICES),), dtype=np.int32),\n",
        "                                    'market_quantities' :spaces.Box(low=0, high=max(STARTING_PRICES)+30*LARGEST_INCREASE,  shape=(len(STARTING_PRICES),) ,dtype=np.int32),\n",
        "                                             })\n",
        "                for agent in self._agent_ids\n",
        "            })\n",
        "        self.reset()\n",
        "\n",
        "    def step(self,actions):\n",
        "        self.t_steps += 1\n",
        "        self.current_period += 1\n",
        "        obs = {}\n",
        "        rewards = {}\n",
        "        terminateds = {}\n",
        "        truncateds = {}\n",
        "        info = {}\n",
        "        prices = self.prices\n",
        "        for i,(agent_id,action) in enumerate(actions.items()):\n",
        "            truncateds[agent_id] = False\n",
        "            terminateds[agent_id] = False\n",
        "            prices[i] += action\n",
        "            if prices[i]<0:\n",
        "                prices[i] = 0\n",
        "            elif prices[i]>max(STARTING_PRICES)+30*LARGEST_INCREASE:\n",
        "                prices[i] = max(STARTING_PRICES)+30*LARGEST_INCREASE\n",
        "\n",
        "        # This formula will be updated with the mathematical model generated from lit review\n",
        "        self.quantities = calculate_market_share(prices)\n",
        "        self.prices = prices\n",
        "\n",
        "        for i,(agent_id,action) in enumerate(actions.items()):\n",
        "            rewards[agent_id] = self.quantities[i]*prices[i]\n",
        "\n",
        "\n",
        "\n",
        "        truncateds['__all__'] = all(truncateds.values())\n",
        "\n",
        "        if self.current_period>PERIODS:\n",
        "            for agent_id, state in actions.items():\n",
        "                terminateds[agent_id] = True\n",
        "            terminateds['__all__'] = all(terminateds.values())\n",
        "\n",
        "\n",
        "        for i,(agent_id, action) in enumerate(actions.items()):\n",
        "            obs[agent_id] = self._get_obs(i)\n",
        "        terminateds['__all__'] = all(terminateds.values())\n",
        "\n",
        "        return obs,rewards,terminateds,truncateds,info\n",
        "\n",
        "    def reset(self,*, seed=None, options=None):\n",
        "        self.current_period = 0\n",
        "        self.prices = STARTING_PRICES.copy()\n",
        "        self.quantities =calculate_market_share(STARTING_PRICES)\n",
        "        self.states = {\n",
        "            agent_id: {\n",
        "                'price': STARTING_PRICES[i],\n",
        "                'market_prices': np.array(STARTING_PRICES),\n",
        "                'market_quantities': np.array(calculate_market_share(STARTING_PRICES))\n",
        "            }\n",
        "            for i,agent_id in enumerate(self._agent_ids)\n",
        "        }\n",
        "        obs = {}\n",
        "        for i,agent_id in enumerate(self._agent_ids):\n",
        "            obs[agent_id] = self._get_obs(i)\n",
        "\n",
        "        return obs, {}\n",
        "\n",
        "    def _get_obs(self,agent_id):\n",
        "        obs = {\n",
        "                'price': self.prices[agent_id],\n",
        "                'market_prices': self.prices,\n",
        "                'market_quantities': self.quantities\n",
        "            }\n",
        "        return obs\n"
      ]
    },
    {
      "cell_type": "code",
      "execution_count": null,
      "metadata": {
        "id": "PykMFYeKu9ZI",
        "outputId": "368b1084-e75a-45ec-f578-9abdea378787"
      },
      "outputs": [
        {
          "data": {
            "text/plain": [
              "{'agent_0': {'price': 300,\n",
              "  'market_prices': [300, 300, 300],\n",
              "  'market_quantities': [1000, 1000, 1000]},\n",
              " 'agent_1': {'price': 300,\n",
              "  'market_prices': [300, 300, 300],\n",
              "  'market_quantities': [1000, 1000, 1000]},\n",
              " 'agent_2': {'price': 300,\n",
              "  'market_prices': [300, 300, 300],\n",
              "  'market_quantities': [1000, 1000, 1000]}}"
            ]
          },
          "execution_count": 92,
          "metadata": {},
          "output_type": "execute_result"
        }
      ],
      "source": [
        "env = InertiaEnv()\n",
        "obs, info =env.reset()\n",
        "obs"
      ]
    },
    {
      "cell_type": "code",
      "execution_count": null,
      "metadata": {
        "id": "vv9p-YO6u9ZI",
        "outputId": "a09781c0-0ae9-4e9e-b695-039592258d26"
      },
      "outputs": [
        {
          "name": "stderr",
          "output_type": "stream",
          "text": [
            "C:\\Users\\theja\\AppData\\Local\\Temp\\ipykernel_29324\\3003658458.py:15: DeprecationWarning: Conversion of an array with ndim > 0 to a scalar is deprecated, and will error in future. Ensure you extract a single element from your array before performing this operation. (Deprecated NumPy 1.25.)\n",
            "  market_shares = [int(share) for share in market_shares]\n"
          ]
        },
        {
          "data": {
            "text/plain": [
              "({'agent_0': {'price': array([303]),\n",
              "   'market_prices': [array([303]), array([301]), array([298])],\n",
              "   'market_quantities': [993, 999, 1008]},\n",
              "  'agent_1': {'price': array([301]),\n",
              "   'market_prices': [array([303]), array([301]), array([298])],\n",
              "   'market_quantities': [993, 999, 1008]},\n",
              "  'agent_2': {'price': array([298]),\n",
              "   'market_prices': [array([303]), array([301]), array([298])],\n",
              "   'market_quantities': [993, 999, 1008]}},\n",
              " {'agent_0': array([300879]),\n",
              "  'agent_1': array([300699]),\n",
              "  'agent_2': array([300384])},\n",
              " {'agent_0': False, 'agent_1': False, 'agent_2': False, '__all__': False},\n",
              " {'agent_0': False, 'agent_1': False, 'agent_2': False, '__all__': False},\n",
              " {})"
            ]
          },
          "execution_count": 93,
          "metadata": {},
          "output_type": "execute_result"
        }
      ],
      "source": [
        "env.step(env.action_space_sample())"
      ]
    },
    {
      "cell_type": "code",
      "execution_count": null,
      "metadata": {
        "id": "7P2BIAKLu9ZJ",
        "outputId": "788632d0-fc4d-471a-e5e1-94fce7c1a071"
      },
      "outputs": [
        {
          "data": {
            "text/plain": [
              "({'agent_0': {'price': 300,\n",
              "   'market_prices': [300, 300, 300],\n",
              "   'market_quantities': [1000, 1000, 1000]},\n",
              "  'agent_1': {'price': 300,\n",
              "   'market_prices': [300, 300, 300],\n",
              "   'market_quantities': [1000, 1000, 1000]},\n",
              "  'agent_2': {'price': 300,\n",
              "   'market_prices': [300, 300, 300],\n",
              "   'market_quantities': [1000, 1000, 1000]}},\n",
              " {})"
            ]
          },
          "execution_count": 94,
          "metadata": {},
          "output_type": "execute_result"
        }
      ],
      "source": [
        "env.reset()"
      ]
    },
    {
      "cell_type": "markdown",
      "metadata": {
        "id": "bxSGs0Pku9ZJ"
      },
      "source": [
        "# Training"
      ]
    },
    {
      "cell_type": "code",
      "execution_count": null,
      "metadata": {
        "id": "8ca23Y7eu9ZJ"
      },
      "outputs": [],
      "source": [
        "if ray.is_initialized():\n",
        "  ray.shutdown()\n",
        "ray.init(ignore_reinit_error=True)"
      ]
    },
    {
      "cell_type": "code",
      "execution_count": null,
      "metadata": {
        "id": "cBO_DYkzu9ZK"
      },
      "outputs": [],
      "source": [
        "ray.available_resources()"
      ]
    },
    {
      "cell_type": "code",
      "execution_count": null,
      "metadata": {
        "id": "lkZbvcl7u9ZK"
      },
      "outputs": [],
      "source": [
        "import os\n",
        "print(os.getcwd())\n",
        "# CHANGE TO PATHING FOR YOUR COMPUTER\n",
        "save_dir = \"\""
      ]
    },
    {
      "cell_type": "code",
      "execution_count": null,
      "metadata": {
        "id": "5njLwlO3u9ZK"
      },
      "outputs": [],
      "source": [
        "from ray import air, tune\n",
        "from ray.rllib.algorithms.ppo import PPOConfig\n",
        "\n",
        "\n",
        "from ray.rllib.models import ModelCatalog\n",
        "from ray.rllib.policy.policy import PolicySpec\n",
        "from ray.rllib.utils.framework import try_import_tf\n",
        "from ray.rllib.utils.test_utils import check_learning_achieved\n",
        "from functools import partial\n",
        "\n",
        "num_policies = 4 # each agent will have its own policy\n",
        "timesteps_total = 500000 #1000000\n",
        "max_training_iteration = 10000\n",
        "num_agents = 4\n",
        "\n",
        "\n",
        "agent_ids = MultiAgentNBAEnv()._agent_ids\n",
        "sym_policies = {agent_id: f\"policy_agent_0\" for agent_id in agent_ids}  # Symmetric\n",
        "asym_policies = {agent_id: f\"policy_{agent_id}\" for agent_id in agent_ids}  # Asymmetric\n",
        "def policy_mapping_fn(agent_id, episode, worker, *, policies=None, **kwargs):\n",
        "    return policies[agent_id]\n",
        "\n",
        "\n",
        "policies = asym_policies\n",
        "policy_mapping = partial(policy_mapping_fn, policies=policies)\n",
        "\n",
        "config = (\n",
        "        PPOConfig()\n",
        "        .environment(MultiAgentNBAEnv)\n",
        "        .framework('torch')\n",
        "        .training(train_batch_size=5000)\n",
        "        .resources(num_gpus=0)\n",
        "        .debugging(seed=0)\n",
        "        .rollouts(num_rollout_workers=10, num_envs_per_worker=5, rollout_fragment_length=\"auto\")\n",
        "        .multi_agent(policies=list(policies.values()),\n",
        "                     policy_mapping_fn=policy_mapping)\n",
        "    )\n",
        "\n",
        "config.num_sgd_iter = 10\n",
        "config.sgd_minibatch_size = 1000\n",
        "config.entropy_coeff = 0.01\n",
        "\n",
        "stop = {\n",
        "        \"timesteps_total\": timesteps_total,\n",
        "        \"training_iteration\": max_training_iteration,\n",
        "    }\n",
        "\n",
        "\n",
        "# THE WAY OF CODING IS A BIT DIFFERENT HERE FROM THE SINGLE AGENT ONE.\n",
        "# WE CAN MAKE IT EXACTLY THE SAME IF IT DIDNT WORK. SPECIFICALLY, config() and results are defined a bit differently.\n",
        "results = tune.Tuner(\n",
        "        \"PPO\",\n",
        "        param_space=config.to_dict(),\n",
        "        run_config=air.RunConfig(\n",
        "            storage_path=save_dir,\n",
        "            stop=stop,\n",
        "            # Save a maximum X checkpoints at every N training_iteration\n",
        "            checkpoint_config=air.CheckpointConfig(\n",
        "                checkpoint_frequency=5,\n",
        "                checkpoint_at_end=True)\n",
        "        ),\n",
        "    ).fit()\n",
        "\n",
        "\n",
        "###if args.as_test:\n",
        " ###   check_learning_achieved(results, args.stop_reward)\n",
        "ray.shutdown()"
      ]
    }
  ],
  "metadata": {
    "colab": {
      "provenance": []
    },
    "kernelspec": {
      "display_name": "Python 3",
      "language": "python",
      "name": "python3"
    },
    "language_info": {
      "codemirror_mode": {
        "name": "ipython",
        "version": 3
      },
      "file_extension": ".py",
      "mimetype": "text/x-python",
      "name": "python",
      "nbconvert_exporter": "python",
      "pygments_lexer": "ipython3",
      "version": "3.10.11"
    }
  },
  "nbformat": 4,
  "nbformat_minor": 0
}
